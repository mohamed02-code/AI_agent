{
 "cells": [
  {
   "cell_type": "code",
   "execution_count": null,
   "id": "7764a0b0",
   "metadata": {},
   "outputs": [],
   "source": [
    "##EDA Check for patterns, outliers, any usefule info\n",
    "import pandas as pd\n",
    "\n",
    "import matplotlib.pyplot as plt\n",
    "\n",
    "splits = {'train': 'data/train-00000-of-00001.parquet', 'test': 'data/test-00000-of-00001.parquet'}\n",
    "df = pd.read_parquet(\"hf://datasets/ncbi/MedCalc-Bench-v1.0/\" + splits[\"train\"])"
   ]
  },
  {
   "cell_type": "code",
   "execution_count": null,
   "id": "21b65302",
   "metadata": {},
   "outputs": [
    {
     "data": {
      "text/plain": [
       "Index(['Row Number', 'Calculator ID', 'Calculator Name', 'Category',\n",
       "       'Output Type', 'Note ID', 'Note Type', 'Patient Note', 'Question',\n",
       "       'Relevant Entities', 'Ground Truth Answer', 'Lower Limit',\n",
       "       'Upper Limit', 'Ground Truth Explanation'],\n",
       "      dtype='object')"
      ]
     },
     "execution_count": 25,
     "metadata": {},
     "output_type": "execute_result"
    }
   ],
   "source": [
    "df.columns\n"
   ]
  },
  {
   "cell_type": "code",
   "execution_count": 30,
   "id": "8f62fea2",
   "metadata": {},
   "outputs": [
    {
     "data": {
      "text/plain": [
       "Calculator Name\n",
       "Mean Arterial Pressure (MAP)                                     928\n",
       "Body Surface Area Calculator                                     909\n",
       "Maintenance Fluids Calculations                                  869\n",
       "Ideal Body Weight                                                601\n",
       "Adjusted Body Weight                                             550\n",
       "Body Mass Index (BMI)                                            499\n",
       "CKD-EPI Equations for Glomerular Filtration Rate                 499\n",
       "CHA2DS2-VASc Score for Atrial Fibrillation Stroke Risk           497\n",
       "Wells' Criteria for Pulmonary Embolism                           425\n",
       "Serum Osmolality                                                 350\n",
       "Delta Gap                                                        311\n",
       "MDRD GFR Equation                                                292\n",
       "Free Water Deficit                                               276\n",
       "Sodium Correction for Hyperglycemia                              275\n",
       "Delta Ratio                                                      268\n",
       "SIRS Criteria                                                    232\n",
       "HEART Score for Major Cardiac Events                             202\n",
       "Anion Gap                                                        196\n",
       "Calcium Correction for Hypoalbuminemia                           193\n",
       "Creatinine Clearance (Cockcroft-Gault Equation)                  137\n",
       "PERC Rule for Pulmonary Embolism                                 133\n",
       "CURB-65 Score for Pneumonia Severity                             105\n",
       "Fibrosis-4 (FIB-4) Index for Liver Fibrosis                      100\n",
       "Estimated Due Date                                                80\n",
       "Steroid Conversion Calculator                                     80\n",
       "Morphine Milligram Equivalents (MME) Calculator                   80\n",
       "Estimated of Conception                                           80\n",
       "Target weight                                                     80\n",
       "Estimated Gestational Age                                         80\n",
       "QTc Rautaharju Calculator                                         80\n",
       "QTc Hodges Calculator                                             80\n",
       "QTc Framingham Calculator                                         80\n",
       "QTc Fridericia Calculator                                         80\n",
       "QTc Bazett Calculator                                             80\n",
       "Centor Score (Modified/McIsaac) for Strep Pharyngitis             77\n",
       "Albumin Corrected Anion Gap                                       71\n",
       "Albumin Corrected Delta Gap                                       55\n",
       "Albumin Corrected Delta Ratio                                     54\n",
       "LDL Calculated                                                    46\n",
       "FeverPAIN Score for Strep Pharyngitis                             22\n",
       "HOMA-IR (Homeostatic Model Assessment for Insulin Resistance)      1\n",
       "Name: count, dtype: int64"
      ]
     },
     "execution_count": 30,
     "metadata": {},
     "output_type": "execute_result"
    }
   ],
   "source": [
    "df[\"Calculator Name\"].value_counts()"
   ]
  },
  {
   "cell_type": "code",
   "execution_count": null,
   "id": "dbe44c4a",
   "metadata": {},
   "outputs": [],
   "source": []
  },
  {
   "cell_type": "code",
   "execution_count": null,
   "id": "016b8374",
   "metadata": {},
   "outputs": [],
   "source": []
  }
 ],
 "metadata": {
  "kernelspec": {
   "display_name": ".venv",
   "language": "python",
   "name": "python3"
  },
  "language_info": {
   "codemirror_mode": {
    "name": "ipython",
    "version": 3
   },
   "file_extension": ".py",
   "mimetype": "text/x-python",
   "name": "python",
   "nbconvert_exporter": "python",
   "pygments_lexer": "ipython3",
   "version": "3.9.6"
  }
 },
 "nbformat": 4,
 "nbformat_minor": 5
}
