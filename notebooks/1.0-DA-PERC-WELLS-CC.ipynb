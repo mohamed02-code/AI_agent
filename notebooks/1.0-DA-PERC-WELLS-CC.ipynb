{
 "cells": [
  {
   "cell_type": "code",
   "execution_count": null,
   "id": "d0b6b0a6",
   "metadata": {},
   "outputs": [
    {
     "name": "stderr",
     "output_type": "stream",
     "text": [
      "/Users/malthehli/Documents/ai_paper_tool/.venv/lib/python3.9/site-packages/urllib3/__init__.py:35: NotOpenSSLWarning: urllib3 v2 only supports OpenSSL 1.1.1+, currently the 'ssl' module is compiled with 'LibreSSL 2.8.3'. See: https://github.com/urllib3/urllib3/issues/3020\n",
      "  warnings.warn(\n",
      "/Users/malthehli/Documents/ai_paper_tool/.venv/lib/python3.9/site-packages/tqdm/auto.py:21: TqdmWarning: IProgress not found. Please update jupyter and ipywidgets. See https://ipywidgets.readthedocs.io/en/stable/user_install.html\n",
      "  from .autonotebook import tqdm as notebook_tqdm\n"
     ]
    }
   ],
   "source": [
    "import sys\n",
    "import os\n",
    "from collections import defaultdict\n",
    "sys.path.append(os.path.abspath(os.path.join('..')))\n",
    "from calc_agent.agent import *\n",
    "# Load dataset\n",
    "dataset = load_dataset(\"ncbi/MedCalc-Bench-v1.0\")\n",
    "df = dataset[\"train\"].to_pandas()  \n",
    "df_test = dataset[\"test\"].to_pandas() \n",
    "# Filter for calculator name \"PERC\"\n",
    "perc_df = df[df[\"Calculator Name\"] == \"PERC Rule for Pulmonary Embolism\"]\n",
    "wells_df = df[df[\"Calculator Name\"] == \"Wells' Criteria for Pulmonary Embolism\"]\n",
    "cc_df = df[df[\"Calculator Name\"] == \"Creatinine Clearance (Cockcroft-Gault Equation)\"]"
   ]
  },
  {
   "cell_type": "code",
   "execution_count": null,
   "id": "fef5ebd2",
   "metadata": {},
   "outputs": [],
   "source": [
    "def plot_distribution(df,cname):\n",
    "    \"\"\"\n",
    "    Plots a distribution graph (histogram + KDE) of predicted scores for a given model_id.\n",
    "    \n",
    "    Parameters:\n",
    "        df (pd.DataFrame): DataFrame containing results_data.\n",
    "        model_id (str): The model_id to filter on.\n",
    "    \"\"\"\n",
    "    # filter df by model_id\n",
    "    \n",
    "    plt.figure(figsize=(8, 5))\n",
    "    \n",
    "    sns.histplot(df[\"Ground Truth Answer\"], kde=True, bins=20, color=\"skyblue\", edgecolor=\"black\")\n",
    "    \n",
    "    plt.title(f\"Distribution of Predicted Scores for {cname}\", fontsize=14)\n",
    "    plt.xlabel(\"Ground Truth\")\n",
    "    plt.ylabel(\"Frequency\")\n",
    "    plt.grid(True, linestyle=\"--\", alpha=0.5)\n",
    "    \n",
    "    plt.show()"
   ]
  }
 ],
 "metadata": {
  "kernelspec": {
   "display_name": ".venv",
   "language": "python",
   "name": "python3"
  },
  "language_info": {
   "codemirror_mode": {
    "name": "ipython",
    "version": 3
   },
   "file_extension": ".py",
   "mimetype": "text/x-python",
   "name": "python",
   "nbconvert_exporter": "python",
   "pygments_lexer": "ipython3",
   "version": "3.9.6"
  }
 },
 "nbformat": 4,
 "nbformat_minor": 5
}
